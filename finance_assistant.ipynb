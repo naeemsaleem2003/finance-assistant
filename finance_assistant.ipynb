{
 "cells": [
  {
   "cell_type": "markdown",
   "metadata": {},
   "source": [
    "# AI-Powered Personal Finance Assistant\n",
    "This notebook analyzes spending data, predicts future expenses, and suggests budgeting strategies."
   ]
  },
  {
   "cell_type": "code",
   "execution_count": null,
   "metadata": {},
   "outputs": [],
   "source": [
    "import pandas as pd\n",
    "import matplotlib.pyplot as plt\n",
    "from sklearn.linear_model import LinearRegression\n",
    "from sklearn.preprocessing import PolynomialFeatures\n",
    "\n",
    "# Load data\n",
    "df = pd.read_csv('data/expenses.csv')\n",
    "df['Month'] = range(1, len(df) + 1)\n",
    "print(df.head())\n",
    "\n",
    "# Visualize spending\n",
    "plt.figure(figsize=(8, 5))\n",
    "plt.plot(df['Month'], df['Total_Spending'], marker='o')\n",
    "plt.title('Monthly Spending')\n",
    "plt.xlabel('Month')\n",
    "plt.ylabel('Total Spending')\n",
    "plt.grid(True)\n",
    "plt.show()"
   ]
  },
  {
   "cell_type": "code",
   "execution_count": null,
   "metadata": {},
   "outputs": [],
   "source": [
    "# Linear Regression\n",
    "X = df[['Month']]\n",
    "y = df['Total_Spending']\n",
    "lr = LinearRegression().fit(X, y)\n",
    "future = pd.DataFrame({'Month': range(1, 13)})\n",
    "predictions = lr.predict(future)\n",
    "future['Predicted Spending'] = predictions\n",
    "print(future)\n",
    "\n",
    "# Budget recommendation\n",
    "monthly_avg = y.mean()\n",
    "recommended_budget = monthly_avg * 0.9\n",
    "print(f'Recommended Monthly Budget: ${recommended_budget:.2f}')\n",
    "\n",
    "# Plot\n",
    "plt.plot(future['Month'], future['Predicted Spending'], label='Predicted')\n",
    "plt.scatter(df['Month'], df['Total_Spending'], color='red', label='Actual')\n",
    "plt.axhline(recommended_budget, color='green', linestyle='--', label='Budget')\n",
    "plt.legend()\n",
    "plt.title('Predicted Spending with Budget')\n",
    "plt.xlabel('Month')\n",
    "plt.ylabel('Spending')\n",
    "plt.show()"
   ]
  }
 ],
 "metadata": {},
 "nbformat": 4,
 "nbformat_minor": 4
}
